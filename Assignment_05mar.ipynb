{
  "nbformat": 4,
  "nbformat_minor": 0,
  "metadata": {
    "colab": {
      "provenance": []
    },
    "kernelspec": {
      "name": "python3",
      "display_name": "Python 3"
    },
    "language_info": {
      "name": "python"
    }
  },
  "cells": [
    {
      "cell_type": "code",
      "source": [
        "Q1. How can you create a Bokeh plot using Python code?"
      ],
      "metadata": {
        "id": "Z0HyQkHhy22o"
      },
      "execution_count": null,
      "outputs": []
    },
    {
      "cell_type": "code",
      "source": [
        "Bokeh is a data visualization library in Python that provides high-performance interactive charts and plots.\n",
        "Bokeh output can be obtained in various mediums like notebook, html and server.\n",
        "Bokeh provides two visualization interfaces to users:\n",
        "\n",
        "bokeh.models : A low level interface that provides high flexibility to application developers.\n",
        "bokeh.plotting : A high level interface for creating visual glyphs.\n",
        "\n",
        "Steps to create a chart with bokeh.plotting interface is:\n",
        "1.Prepare the data.\n",
        "2.Create a new plot.\n",
        "3.Add renders for your data, with your visual customization for the plot.\n",
        "4.Specify where to generate the output (In HTML file or in Jupyter Notebook)\n",
        "5.Show the result."
      ],
      "metadata": {
        "id": "lx84bjw9y2v5"
      },
      "execution_count": null,
      "outputs": []
    },
    {
      "cell_type": "code",
      "source": [
        "Q2. What are glyphs in Bokeh, and how can you add them to a Bokeh plot? Explain with an example."
      ],
      "metadata": {
        "id": "YjQLgxzxy2qR"
      },
      "execution_count": null,
      "outputs": []
    },
    {
      "cell_type": "code",
      "source": [
        "In Bokeh, Glyphs are visual shapes that are used to represent the data points in a plot.\n",
        "They define the basic geometry of the plot, such as the shape, size, and color of the markers used to represent the data.\n",
        "Usually, a plot consists of geometric shapes either in the form of a line, circle, etc.\n",
        "So, Glyphs are nothing but visual shapes that are drawn to represent the data such as circles, squares, lines, rectangles, etc.\n",
        "\n",
        "For example:\n",
        "\n",
        "Creating a basic line chart: The line chart displays the visualization of x and y-axis points movements\n",
        "in the form of a line. To draw a line glyph to the figure, we use the line() method of the figure object.\n",
        "\n",
        "Syntax: my_plot.line(a, b, line_width)"
      ],
      "metadata": {
        "id": "MA4kpEYRQYiy"
      },
      "execution_count": null,
      "outputs": []
    },
    {
      "cell_type": "code",
      "source": [
        "# import the libraries\n",
        "from bokeh.plotting import figure, show, output_file\n",
        "\n",
        "# prepare some data\n",
        "a = [1, 2, 3, 4, 5, 6, 7, 8, 9, 10]\n",
        "b = [2, 4, 6, 8, 10, 12, 14, 16, 18, 20]\n",
        "\n",
        "# display output in file\n",
        "output_file(\"line.html\")\n",
        "\n",
        "# create a plot using figure\n",
        "my_plot = figure(title=\"simple line chart\", x_axis_label=\"X-Axis\", y_axis_label=\"Y-Axis\")\n",
        "\n",
        "# adding line graph\n",
        "my_plot.line(a, b, line_width=3)\n",
        "\n",
        "# show the result\n",
        "show(my_plot)"
      ],
      "metadata": {
        "id": "8gcfTkZUSlJk"
      },
      "execution_count": null,
      "outputs": []
    },
    {
      "cell_type": "code",
      "source": [
        "Q3. How can we customize the appearance of a Bokeh plot, including the axes, title, and legend?"
      ],
      "metadata": {
        "id": "8l31asN_QYW2"
      },
      "execution_count": null,
      "outputs": []
    },
    {
      "cell_type": "code",
      "source": [
        "Options for customizing the appearance of plot including the axes:\n",
        "\n",
        "a. Setting labels for your axes\n",
        "b. Styling the numbers displayed with your axes\n",
        "c. Defining colors and other layout properties for the axes themselves\n",
        "\n",
        "Here are some ways to customize the appearance of a Bokeh plot, including the title:\n",
        "\n",
        "Using Themes: Bokeh comes with five built-in themes: caliber, dark_minimal, light_minimal, night_sky, and contrast.\n",
        "Additionally, we can define our own custom themes.\n",
        "We can quickly change the appearance of our plot by using one of these themes. To do this, simply pass the name\n",
        "of the theme to the theme parameter of the figure() function.\n",
        "\n",
        "Styling plot elements: We can also customize the appearance of individual plot elements, such as the axes, grid, and glyphs.\n",
        "To do this, we can use the various properties that are available on these objects. For example, to change the color of the axes,\n",
        "we can use the axis.axis_label_color property. To change the line style of the grid, we can use the grid.grid_line_color property.\n",
        "And to change the fill color of the glyphs, you can use the glyph.fill_color property.\n",
        "\n",
        "Adding annotations: We can also add annotations to your plots, such as titles, labels, and legends.\n",
        "To do this, we can use the various annotation objects that are available in Bokeh.\n",
        "For example, to add a title to our plot, we can use the Title object. To add a label to a data point, we can use the Label object.\n",
        "And to add a legend, we can use the Legend object.\n",
        "\n",
        "The legend of a graph reflects the data displayed in the graph’s Y-axis. In Bokeh, the legends correspond to glyphs.\n",
        "We can customize the legend with its several attributes such as location, color, line-color, font-size,\n",
        "font-style line width. We can modify it using the legend attribute with the required property name.\n",
        "Syntax : legend.property_name=value"
      ],
      "metadata": {
        "id": "tzQXpvd7rR12"
      },
      "execution_count": null,
      "outputs": []
    },
    {
      "cell_type": "code",
      "source": [
        "Q4. What is a Bokeh server, and how can you use it to create interactive plots that can be updated in real time?"
      ],
      "metadata": {
        "id": "DyZZS7uwrSK5"
      },
      "execution_count": null,
      "outputs": []
    },
    {
      "cell_type": "code",
      "source": [
        "Bokeh is a Python library that enables the creation of interactive and dynamic data visualizations for web browsers.\n",
        "Bokeh server is a component of Bokeh that allows you to create interactive plots and applications that can be\n",
        "updated in real time, all while running on a server.\n",
        "\n",
        "Here's how we can use Bokeh server to create interactive plots that can be updated in real time:\n",
        "\n",
        "Install Bokeh: First, make sure we have Bokeh installed. We can install it using pip:\n",
        "\n",
        "pip install bokeh\n",
        "\n",
        "Import Necessary Modules: Import the necessary modules from Bokeh for creating plots and running the Bokeh server:\n",
        "\n",
        "from bokeh.plotting import figure\n",
        "from bokeh.io import curdoc\n",
        "from bokeh.models import ColumnDataSource\n",
        "from bokeh.layouts import layout\n",
        "from bokeh.server.server import Server\n",
        "\n",
        "Define Plot: Create initial plot as we would normally with Bokeh, but make sure to use ColumnDataSource to make\n",
        "data source accessible to the Bokeh server:\n",
        "\n",
        "source = ColumnDataSource(data=dict(x=[], y=[]))\n",
        "\n",
        "plot = figure(title='Real-Time Plot', plot_width=400, plot_height=400)\n",
        "plot.circle('x', 'y', source=source)\n",
        "\n",
        "Define Callback Functions: Define any callback functions that update the data of our plot.\n",
        "These functions will be executed whenever the data changes:\n",
        "\n",
        "def update():\n",
        "    # Update your data source here\n",
        "    new_data = {'x': [1, 2, 3], 'y': [4, 5, 6]}\n",
        "    source.data = new_data\n",
        "\n",
        "# Call the update function periodically or in response to some event\n",
        "curdoc().add_periodic_callback(update, 1000)  # Update every second\n",
        "\n",
        "Run the Bokeh Server: To run the Bokeh server,we can use the bokeh serve command in our terminal:\n",
        "\n",
        "bokeh serve --show your_script.py\n",
        "\n",
        "\n",
        "Replace your_script.py with the filename of our Python script containing the Bokeh server code.\n",
        "\n",
        "Access Application: After running the Bokeh server, we can access our interactive plot by opening a web browser\n",
        "and navigating to the specified URL, usually http://localhost:5006/your_script.\n",
        "\n",
        "\n",
        "import numpy as np\n",
        "import matplotlib.pyplot as plt\n",
        "\n",
        "# Parameters\n",
        "n = 1000  # Sample size\n",
        "p = 0.4   # Probability of success\n",
        "\n",
        "# Generate random sample\n",
        "sample = np.random.binomial(1, p, n)\n",
        "\n",
        "# Plot histogram\n",
        "plt.hist(sample, bins=2, edgecolor='black')\n",
        "plt.title('Binomial Distribution with p=0.4')\n",
        "plt.xlabel('Success or Failure')\n",
        "plt.ylabel('Frequency')\n",
        "plt.xticks([0.25, 0.75], ['Failure', 'Success'])\n",
        "plt.show()"
      ],
      "metadata": {
        "id": "XHcOpqaXrSQY"
      },
      "execution_count": null,
      "outputs": []
    },
    {
      "cell_type": "code",
      "source": [
        "Q5. How can you embed a Bokeh plot into a web page or dashboard using Flask or Django?"
      ],
      "metadata": {
        "id": "KcxsF9M-hmKB"
      },
      "execution_count": null,
      "outputs": []
    },
    {
      "cell_type": "code",
      "source": [
        "Here are the steps on how to embed a Bokeh plot into a web page or dashboard using Flask or Django:\n",
        "\n",
        "Install Bokeh: We can do this using pip:\n",
        "pip install bokeh\n",
        "\n",
        "Create a Bokeh plot: We can do this using the bokeh.plotting.figure() function.\n",
        "\n",
        "Embed the Bokeh plot in a web page or dashboard: We can do this using the bokeh.embed.components() function.\n",
        "This function takes a Bokeh plot as input and returns a tuple of two strings: a JavaScript script and an HTML div element.\n",
        "The JavaScript script loads the Bokeh plot into the HTML div element.\n",
        "\n",
        "Open the web page in a web browser: We can do this by opening the html file in a web browser.\n",
        "The Bokeh plot will be displayed in the web browser.\n",
        "\n",
        "Here are some additional tips for embedding Bokeh plots in web pages and dashboards:\n",
        "\n",
        "bokeh.embed.file_html() function to embed a Bokeh plot in a web page from a file.\n",
        "bokeh.embed.server_html() function to embed a Bokeh plot in a web page from a Bokeh server.\n",
        "bokeh.layouts() function to layout multiple Bokeh plots in a web page or dashboard.\n",
        "bokeh.models.ColumnDataSource() object to update the data in a Bokeh plot dynamically."
      ],
      "metadata": {
        "id": "pE1o9CEyhmdP"
      },
      "execution_count": null,
      "outputs": []
    }
  ]
}